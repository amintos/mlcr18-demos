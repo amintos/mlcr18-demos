{
 "cells": [
  {
   "cell_type": "code",
   "execution_count": 1,
   "metadata": {},
   "outputs": [
    {
     "name": "stderr",
     "output_type": "stream",
     "text": [
      "C:\\Users\\toni.mattis\\AppData\\Roaming\\Python\\Python37\\site-packages\\sklearn\\utils\\__init__.py:4: DeprecationWarning: Using or importing the ABCs from 'collections' instead of from 'collections.abc' is deprecated, and in 3.8 it will stop working\n",
      "  from collections import Sequence\n"
     ]
    }
   ],
   "source": [
    "from matplotlib import pyplot as plt\n",
    "from sklearn.decomposition import NMF\n",
    "from scipy.sparse import lil_matrix \n",
    "import numpy as np"
   ]
  },
  {
   "cell_type": "code",
   "execution_count": null,
   "metadata": {},
   "outputs": [],
   "source": []
  },
  {
   "cell_type": "code",
   "execution_count": null,
   "metadata": {},
   "outputs": [],
   "source": []
  },
  {
   "cell_type": "code",
   "execution_count": 2,
   "metadata": {},
   "outputs": [],
   "source": [
    "m = lil_matrix((10,5)) # 10 projects, 5 dependencies\n",
    "\n",
    "# cluster in the top left\n",
    "m[0,0]=1\n",
    "m[0,1]=1\n",
    "m[1,0]=1\n",
    "m[1,1]=1\n",
    "\n",
    "# cluster in the center left\n",
    "m[5,0]=1\n",
    "m[6,1]=1\n",
    "\n",
    "# cluster in the center right\n",
    "m[2, 2] = 1\n",
    "m[2, 3] = 1\n",
    "m[2, 4] = 1\n",
    "m[3, 2] = 1\n",
    "m[3, 4] = 1\n",
    "m[4, 2] = 1\n",
    "m[4, 3] = 1\n",
    "\n",
    "# cluster in the bottom right\n",
    "m[7, 3] = 1\n",
    "m[7, 4] = 1\n",
    "m[8, 2] = 1\n",
    "m[8, 4] = 1\n",
    "m[9, 3] = 1\n",
    "m[9, 2] = 1\n",
    "m[9, 1] = 1"
   ]
  },
  {
   "cell_type": "code",
   "execution_count": 3,
   "metadata": {},
   "outputs": [
    {
     "data": {
      "text/plain": [
       "<matplotlib.image.AxesImage at 0x19feae4db00>"
      ]
     },
     "execution_count": 3,
     "metadata": {},
     "output_type": "execute_result"
    },
    {
     "data": {
      "image/png": "[encoded data removed]",
      "text/plain": [
       "<Figure size 432x288 with 1 Axes>"
      ]
     },
     "metadata": {},
     "output_type": "display_data"
    }
   ],
   "source": [
    "# heatmap, darker = no link, brigher = link\n",
    "plt.xlabel('dependencies')\n",
    "plt.ylabel('projects')\n",
    "plt.imshow(m.toarray(), cmap='winter')\n"
   ]
  },
  {
   "cell_type": "code",
   "execution_count": 4,
   "metadata": {},
   "outputs": [],
   "source": [
    "factorization = NMF(n_components=2, alpha=0.01, max_iter=100)"
   ]
  },
  {
   "cell_type": "code",
   "execution_count": 5,
   "metadata": {},
   "outputs": [],
   "source": [
    "model = factorization.fit(m) # the two \"clusters\" and how likely each dependency belongs to them\n",
    "encoded = model.transform(m) # how likely each package belongs to the clusters"
   ]
  },
  {
   "cell_type": "code",
   "execution_count": 6,
   "metadata": {},
   "outputs": [
    {
     "data": {
      "text/plain": [
       "<matplotlib.image.AxesImage at 0x19feaee5ef0>"
      ]
     },
     "execution_count": 6,
     "metadata": {},
     "output_type": "execute_result"
    },
    {
     "data": {
      "image/png": "[encoded data removed]",
      "text/plain": [
       "<Figure size 432x288 with 1 Axes>"
      ]
     },
     "metadata": {},
     "output_type": "display_data"
    }
   ],
   "source": [
    "# the \"interpolated\" matrix\n",
    "plt.xlabel('dependencies')\n",
    "plt.ylabel('projects')\n",
    "plt.imshow(model.inverse_transform(encoded), cmap='winter' )"
   ]
  },
  {
   "cell_type": "code",
   "execution_count": 7,
   "metadata": {},
   "outputs": [
    {
     "data": {
      "text/plain": [
       "<matplotlib.image.AxesImage at 0x19feb776cf8>"
      ]
     },
     "execution_count": 7,
     "metadata": {},
     "output_type": "execute_result"
    },
    {
     "data": {
      "image/png": "[encoded data removed]",
      "text/plain": [
       "<Figure size 432x288 with 1 Axes>"
      ]
     },
     "metadata": {},
     "output_type": "display_data"
    }
   ],
   "source": [
    "# matrix multiplication yields same result as inverse transform (as it should!)\n",
    "plt.imshow(encoded.dot(model.components_), cmap='winter' )"
   ]
  },
  {
   "cell_type": "code",
   "execution_count": 8,
   "metadata": {},
   "outputs": [
    {
     "data": {
      "text/plain": [
       "<matplotlib.image.AxesImage at 0x19feb7c8e80>"
      ]
     },
     "execution_count": 8,
     "metadata": {},
     "output_type": "execute_result"
    },
    {
     "data": {
      "image/png": "[encoded data removed]",
      "text/plain": [
       "<Figure size 432x288 with 1 Axes>"
      ]
     },
     "metadata": {},
     "output_type": "display_data"
    }
   ],
   "source": [
    "# recommendations should be packages that are not observed, but belong to the respective clusters/components according to NMF:\n",
    "predicted = encoded.dot(model.components_)\n",
    "recommendation = np.where(m.toarray() == 0, predicted, 0.0)\n",
    "plt.imshow(recommendation, cmap='winter')"
   ]
  },
  {
   "cell_type": "code",
   "execution_count": 9,
   "metadata": {},
   "outputs": [
    {
     "data": {
      "text/plain": [
       "<matplotlib.image.AxesImage at 0x19feb81b6a0>"
      ]
     },
     "execution_count": 9,
     "metadata": {},
     "output_type": "execute_result"
    },
    {
     "data": {
      "image/png": "[encoded data removed]",
      "text/plain": [
       "<Figure size 432x288 with 1 Axes>"
      ]
     },
     "metadata": {},
     "output_type": "display_data"
    }
   ],
   "source": [
    "# comparing with the original observation, these are the \"gaps\" in the data:\n",
    "plt.imshow(m.toarray() + recommendation, cmap='winter')"
   ]
  },
  {
   "cell_type": "code",
   "execution_count": 10,
   "metadata": {},
   "outputs": [
    {
     "data": {
      "text/plain": [
       "array([[-0.63630906,  0.50611746,  0.68289205, -0.44375959, -0.46683654]])"
      ]
     },
     "execution_count": 10,
     "metadata": {},
     "output_type": "execute_result"
    }
   ],
   "source": [
    "# we can also recommend packages for any new combination of dependencies:\n",
    "\n",
    "deps = [1, 0, 0, 1, 1]\n",
    "model.inverse_transform(model.transform([deps])) - deps"
   ]
  },
  {
   "cell_type": "code",
   "execution_count": null,
   "metadata": {},
   "outputs": [],
   "source": []
  }
 ],
 "metadata": {
  "kernelspec": {
   "display_name": "Python 3",
   "language": "python",
   "name": "python3"
  },
  "language_info": {
   "codemirror_mode": {
    "name": "ipython",
    "version": 3
   },
   "file_extension": ".py",
   "mimetype": "text/x-python",
   "name": "python",
   "nbconvert_exporter": "python",
   "pygments_lexer": "ipython3",
   "version": "3.7.0b4"
  }
 },
 "nbformat": 4,
 "nbformat_minor": 2
}
